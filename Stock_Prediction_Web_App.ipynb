{
 "cells": [
  {
   "cell_type": "code",
   "execution_count": 20,
   "metadata": {},
   "outputs": [],
   "source": [
    "import numpy as np\n",
    "import pandas as pd\n",
    "import matplotlib.pyplot as plt\n",
    "import pandas_datareader.yahoo as yfin_data\n",
    "\n",
    "from datetime import datetime"
   ]
  },
  {
   "cell_type": "code",
   "execution_count": 31,
   "metadata": {},
   "outputs": [
    {
     "name": "stdout",
     "output_type": "stream",
     "text": [
      "<pandas_datareader.yahoo.daily.YahooDailyReader object at 0x7fa6b3a80090>\n"
     ]
    }
   ],
   "source": [
    "start = datetime (2010, 1, 1)\n",
    "end = datetime (2019, 12, 31)\n",
    "\n",
    "df = yfin_data.daily.YahooDailyReader ('AAPL')\n",
    "#df = yfin_data.daily.YahooDailyReader ('AAPL', start = \"JAN-01-2010\", end = \"DEC-31-2019\", retry_count=3, pause=0.5, session=None, adjust_price=False, ret_index=False, chunksize=1, interval='d', get_actions=False, adjust_dividends=True).read()\n",
    "print (df)"
   ]
  },
  {
   "cell_type": "code",
   "execution_count": null,
   "metadata": {},
   "outputs": [],
   "source": []
  }
 ],
 "metadata": {
  "kernelspec": {
   "display_name": "Python 3",
   "language": "python",
   "name": "python3"
  },
  "language_info": {
   "codemirror_mode": {
    "name": "ipython",
    "version": 3
   },
   "file_extension": ".py",
   "mimetype": "text/x-python",
   "name": "python",
   "nbconvert_exporter": "python",
   "pygments_lexer": "ipython3",
   "version": "3.7.4"
  }
 },
 "nbformat": 4,
 "nbformat_minor": 2
}
